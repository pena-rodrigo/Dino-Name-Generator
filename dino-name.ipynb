{
  "cells": [
    {
      "cell_type": "markdown",
      "metadata": {
        "id": "view-in-github",
        "colab_type": "text"
      },
      "source": [
        "<a href=\"https://colab.research.google.com/github/pena-rodrigo/Dino-Name-Generator/blob/main/dino-name.ipynb\" target=\"_parent\"><img src=\"https://colab.research.google.com/assets/colab-badge.svg\" alt=\"Open In Colab\"/></a>"
      ]
    },
    {
      "cell_type": "code",
      "execution_count": null,
      "metadata": {
        "id": "0UKVdWGDB6UG"
      },
      "outputs": [],
      "source": []
    },
    {
      "cell_type": "markdown",
      "metadata": {
        "id": "qZz4mBr7B6UG"
      },
      "source": [
        "## Importing modules"
      ]
    },
    {
      "cell_type": "code",
      "execution_count": 44,
      "metadata": {
        "id": "yKeHlN_3B6UH"
      },
      "outputs": [],
      "source": [
        "import os\n",
        "import time\n",
        "import math\n",
        "import string\n",
        "import random"
      ]
    },
    {
      "cell_type": "code",
      "execution_count": 45,
      "metadata": {
        "id": "77OOeYeZB6UI"
      },
      "outputs": [],
      "source": [
        "import collections\n",
        "import numpy as np\n",
        "import matplotlib.pyplot as plt"
      ]
    },
    {
      "cell_type": "code",
      "execution_count": 46,
      "metadata": {
        "id": "vO4zal_NB6UI"
      },
      "outputs": [],
      "source": [
        "import torch\n",
        "from torch import nn\n",
        "from torch import optim\n",
        "from torch.functional import F\n",
        "from torch.utils.data import DataLoader"
      ]
    },
    {
      "cell_type": "code",
      "execution_count": 47,
      "metadata": {
        "id": "zupzSx3gB6UI",
        "outputId": "76c47d62-e19b-4744-d685-72fb606659f8",
        "colab": {
          "base_uri": "https://localhost:8080/"
        }
      },
      "outputs": [
        {
          "output_type": "stream",
          "name": "stdout",
          "text": [
            "Drive already mounted at /content/gdrive; to attempt to forcibly remount, call drive.mount(\"/content/gdrive\", force_remount=True).\n"
          ]
        }
      ],
      "source": [
        "from google.colab import drive\n",
        "drive.mount('/content/gdrive')\n",
        "dir = '/content/gdrive/MyDrive/Dino-Name-Generator-main/'"
      ]
    },
    {
      "cell_type": "code",
      "source": [
        "import os\n",
        "import time\n",
        "import math\n",
        "import string\n",
        "import random\n",
        "\n",
        "import collections\n",
        "import numpy as np\n",
        "import matplotlib.pyplot as plt\n",
        "\n",
        "import torch\n",
        "from torch import nn\n",
        "from torch import optim\n",
        "from torch.functional import F\n",
        "\n",
        "\n",
        "\n",
        "def train(model, data, num_iter, criterion, clip=0.25, lr=0.001, print_every=50,\n",
        "    sleep=False, sleep_every=None):\n",
        "    \"\"\"\n",
        "    Input:\n",
        "        model: A Pytorch's nn.Module class.\n",
        "        data: Training data, containing both x and y.\n",
        "        num_iter: Number of time to perform backward prop, (update parameters).\n",
        "        criterion: A function that takes in (out, y) and returns the loss.\n",
        "        clip: Value to clip gradients to. If None, clipping is not done.\n",
        "        lr: Learning rate.\n",
        "        print_every: Number of iterations to print averaged loss. If None, nothing\n",
        "            is printed.\n",
        "        sleep: Number of seconds to pause training.\n",
        "        sleep_every: Number of iterations to pause training. Ignored if sleep is False.\n",
        "    \n",
        "    Output:\n",
        "        model: The trained model.\n",
        "        costs: List of all the calculated loss.\n",
        "    \"\"\"\n",
        "    model.train()\n",
        "    \n",
        "    costs = []\n",
        "    running_loss = 0\n",
        "    optimizer = optim.Adam(model.parameters(), lr=lr)\n",
        "\n",
        "    curr_iter = 0\n",
        "    while curr_iter<num_iter:\n",
        "        for x, y in data:\n",
        "            optimizer.zero_grad()\n",
        "            \n",
        "            # Initialise model's state and perform forward-prop\n",
        "            if isinstance(x, (list, tuple)):\n",
        "                prev_state = model.init_state(b_size=x[0].shape[0])\n",
        "            else:\n",
        "                prev_state = model.init_state(b_size=x.shape[0])\n",
        "\n",
        "            out, state = model(x, prev_state)\n",
        "\n",
        "            # Calculate loss\n",
        "            loss = criterion(out.transpose(1, 2), y)\n",
        "            costs.append(loss.item())\n",
        "            running_loss += loss.item()\n",
        "\n",
        "            # Calculate gradients and update parameters\n",
        "            loss.backward()\n",
        "            if clip:\n",
        "                nn.utils.clip_grad_norm_(model.parameters(), clip)\n",
        "            optimizer.step()\n",
        "            \n",
        "            curr_iter += 1\n",
        "            if print_every and (curr_iter%print_every)==0:\n",
        "                print(\"Iteration: {:{}}/{}, Loss: {:8.4f}\".format(\n",
        "                    curr_iter, int(math.log(num_iter, 10))+2, num_iter,\n",
        "                    running_loss/float(print_every)))\n",
        "                running_loss = 0\n",
        "                \n",
        "            if curr_iter>=num_iter:\n",
        "                break\n",
        "\n",
        "            if (sleep and sleep_every) and (curr_iter%sleep_every)==0:\n",
        "                time.sleep(sleep)\n",
        "    return model, costs"
      ],
      "metadata": {
        "id": "EW-LS9msMK-D"
      },
      "execution_count": 48,
      "outputs": []
    },
    {
      "cell_type": "code",
      "source": [
        "import os\n",
        "import time\n",
        "import math\n",
        "import string\n",
        "import random\n",
        "\n",
        "import collections\n",
        "import numpy as np\n",
        "import matplotlib.pyplot as plt\n",
        "\n",
        "import torch\n",
        "from torch import nn\n",
        "from torch import optim\n",
        "from torch.functional import F\n",
        "\n",
        "\n",
        "\n",
        "def test_dataset_batching(x, y, xlen=None):\n",
        "    \"\"\"\n",
        "        Test if x[1:] == y[:-1]. Both x and y are without padding.\n",
        "\n",
        "    Input:\n",
        "        x: Batch of x.\n",
        "        y: Batch of y.\n",
        "        xlen: True length of each sample in the batch.\n",
        "        \n",
        "    Example:\n",
        "        \n",
        "        # Assuming dataloader is the same as in the notebook dino-name_batch.ipynb\n",
        "        >>> for d in dataloader:\n",
        "        ...     test_dataset_batching(d[0][0], d[1], d[0][1])\n",
        "    \"\"\"\n",
        "    count = 0\n",
        "    for i, (xi, yi) in enumerate(zip(x, y)):\n",
        "        xi_nopad = xi[:xlen[i]] if xlen is not None else xi\n",
        "        yi_nopad = yi[:xlen[i]] if xlen is not None else yi\n",
        "        \n",
        "        if (xi_nopad[1:] == yi_nopad[:-1]).all():\n",
        "            count += 1\n",
        "    print(\"{} of {} indexes passed test.\".format(count, i+1))\n",
        "\n",
        "\n",
        "def test_model_batch_vs_nobatch(model, data, pad_ix=-100, e=1e-4):\n",
        "    \"\"\"\n",
        "        Test if model's output, state and loss is the same for batch and nobatch.\n",
        "\n",
        "    Input:\n",
        "        model: A Pytorch's nn.Module class.\n",
        "        data: ((x, xlen), y).\n",
        "        pad_ix: PAD token index. An error might be raised if it is not given.\n",
        "        e: Precision of comparision. The default value is recommended.\n",
        "        \n",
        "    Example:\n",
        "        \n",
        "        # Assuming dataloader is the same as in the notebook dino-name_batch.ipynb\n",
        "        >>> for d in dataloader:\n",
        "        ...     test_model_batch_vs_nobatch(model, d, char_to_ix[\"<PAD>\"])\n",
        "    \"\"\"\n",
        "    x, y = data\n",
        "    n_b, n_s = x[0].shape\n",
        "\n",
        "    count = {\"out\": 0, \"state\": 0, \"loss\": 0}\n",
        "    criterion = nn.CrossEntropyLoss(reduction=\"none\", ignore_index=pad_ix)\n",
        "    \n",
        "    # BATCHING: Perform forward-pass with gradient calculation disabled\n",
        "    model.eval()\n",
        "    with torch.no_grad():\n",
        "        batch_out, batch_state = model(x, model.init_state(n_b))\n",
        "        batch_state = torch.cat(batch_state).transpose(0, 1)\n",
        "        batch_loss = criterion(batch_out.transpose(1, 2), y)\n",
        "        \n",
        "    # NO-BATCHING\n",
        "    for i in range(n_b):\n",
        "        xlen_i = int(x[1][i])\n",
        "\n",
        "        xi = (x[0][i][:xlen_i].unsqueeze(0), x[1][i].unsqueeze(0))\n",
        "        yi =     y[i][:xlen_i].unsqueeze(0)\n",
        "        \n",
        "        # Perform forward-pass with gradient calculation disabled\n",
        "        model.eval()\n",
        "        with torch.no_grad():\n",
        "            nobatch_out_i, nobatch_state_i = model(xi, model.init_state(1))\n",
        "            nobatch_state_i = torch.cat(nobatch_state_i).transpose(0, 1)\n",
        "            nobatch_loss_i = criterion(nobatch_out_i.transpose(1, 2), yi)\n",
        "\n",
        "        # NOTE: Each of the comparision below are calculated upto a certain precision e,\n",
        "        # due to issues arising from early rounding and floating-point precision\n",
        "\n",
        "        # check if model outputs are equal\n",
        "        if ((batch_out[i][:xlen_i] - nobatch_out_i) < e).all():\n",
        "            count[\"out\"] += 1\n",
        "\n",
        "        # check if model hidden states are equal\n",
        "        if ((batch_state[i][:xlen_i] - nobatch_state_i) < e).all():\n",
        "            count[\"state\"] += 1\n",
        "\n",
        "        # check if model loss are equal\n",
        "        if ((batch_loss[i][:xlen_i] - nobatch_loss_i) < e).all():\n",
        "            count[\"loss\"] += 1\n",
        "\n",
        "    print(\"Out: {out}/{n_b} match; State: {state}/{n_b} match; Loss: {loss}/{n_b} match.\"\n",
        "        .format(n_b=n_b, **count))\n"
      ],
      "metadata": {
        "id": "Ap9R-7fdMQAO"
      },
      "execution_count": 49,
      "outputs": []
    },
    {
      "cell_type": "code",
      "source": [
        "import os\n",
        "import time\n",
        "import math\n",
        "import string\n",
        "import random\n",
        "\n",
        "import collections\n",
        "import numpy as np\n",
        "import matplotlib.pyplot as plt\n",
        "\n",
        "import torch\n",
        "from torch import nn\n",
        "from torch import optim\n",
        "from torch.functional import F\n",
        "\n",
        "\n",
        "\n",
        "def sample_next(model, x, prev_state, topk=5, uniform=True):\n",
        "    \"\"\"\n",
        "    Input:\n",
        "        model: A Pytorch's nn.Module class.\n",
        "        x: The input to the model.\n",
        "        prev_state: The previous state of the model.\n",
        "        topk: The top-k output to sample from. If None, sample from the entire output.\n",
        "        uniform: Whether to sample from a uniform or a weighted distrubution of topk.\n",
        "    \n",
        "    Output:\n",
        "        sampled_ix: The sampled index.\n",
        "        state: The current state of the model.\n",
        "    \"\"\"\n",
        "    # Perform forward-prop and get the output of the last time-step\n",
        "    out, state = model(x, prev_state)\n",
        "    last_out = out[0, -1, :]\n",
        "\n",
        "    # Get the top-k indexes and their values\n",
        "    topk = topk if topk else last_out.shape[0]\n",
        "    top_logit, top_ix = torch.topk(last_out, k=topk, dim=-1)\n",
        "    \n",
        "    # Get the softmax of the topk's and sample\n",
        "    p = None if uniform else F.softmax(top_logit.detach(), dim=-1).numpy()\n",
        "    sampled_ix = np.random.choice(top_ix, p=p)\n",
        "    return sampled_ix, state\n",
        "\n",
        "\n",
        "def sample(model, seed, topk=5, uniform=True, max_seqlen=18, stop_on=None, batched=True):\n",
        "    \"\"\"\n",
        "    Input:\n",
        "        model: A Pytorch's nn.Module class.\n",
        "        seed: List of indexes to intialise model with.\n",
        "        topk: The top-k output to sample from. If None, sample from the entire output.\n",
        "        uniform: Whether to sample from a uniform or a weighted distrubution of topk.\n",
        "        max_seqlen: The maximum sequence length to sample. 'seed' length is included.\n",
        "        stop_on: Index that signals the end of sequence (sampling).\n",
        "            If None, max_seqlen determines the end of sampling.\n",
        "    \n",
        "    Output:\n",
        "        sampled_ix_list: List of sampled indexes.\n",
        "    \"\"\"\n",
        "    seed = seed if isinstance(seed, (list, tuple)) else [seed]\n",
        "    \n",
        "    model.eval()\n",
        "    with torch.no_grad():\n",
        "        sampled_ix_list = seed[:]\n",
        "        x = (torch.tensor([seed]), torch.tensor([len(seed)]))\n",
        "        if not batched:\n",
        "            x = torch.tensor([seed])\n",
        "        \n",
        "        prev_state = model.init_state(b_size=1)\n",
        "        for t in range(max_seqlen - len(seed)):\n",
        "            sampled_ix, prev_state = sample_next(model, x, prev_state, topk, uniform)\n",
        "\n",
        "            sampled_ix_list.append(sampled_ix)\n",
        "            x = (torch.tensor([[sampled_ix]]), torch.tensor([1]))\n",
        "            if not batched:\n",
        "                x = torch.tensor([[sampled_ix]])\n",
        "            \n",
        "            if sampled_ix==stop_on:\n",
        "                break\n",
        "    \n",
        "    model.train()\n",
        "    return sampled_ix_list\n",
        "\n",
        "\n",
        "def originality(n_samp, corpus, sampler, model, ix_list, *args, **kwargs):\n",
        "    \"\"\"\n",
        "    Input:\n",
        "        n_samp: Number of samples to consider.\n",
        "        corpus: List of training examples of the format outputted by sampler.\n",
        "        sampler: A function that returns a list of sampled indexes. Must take in\n",
        "            model and a (list of) seed as it's first two arguments.\n",
        "        model: A Pytorch's nn.Module class.\n",
        "        ix_list: List of seed index, from vocab, to consider.\n",
        "\n",
        "        *arg: Arguments to pass with sampler.\n",
        "        **kwargs: Keyword arguments to pass with sampler.\n",
        "    \n",
        "    Output:\n",
        "        samples: List of samples that were considered.\n",
        "        duplicates: List of samples that are in corpus.\n",
        "    \"\"\"\n",
        "    samples = []\n",
        "    duplicates = []\n",
        "    \n",
        "    for i in range(n_samp):\n",
        "        samp = sampler(model, random.choice(ix_list), *args, **kwargs)\n",
        "        samples.append(samp)\n",
        "\n",
        "        if samp in corpus:\n",
        "            duplicates.append(samp)\n",
        "\n",
        "    recall = 100 * len(duplicates) / n_samp\n",
        "    print(\"Duplicates: {} of {}\".format(len(duplicates), n_samp))\n",
        "    print(\"{:6.2f}% recall\".format(recall))\n",
        "    print(\"{:6.2f}% original\".format(100 - recall))\n",
        "    return samples, duplicates\n",
        "\n",
        "\n",
        "def keys_to_values(keys, _map, default):\n",
        "    \"\"\"\n",
        "        Converts values in keys to their mapped values in _map. If not found,\n",
        "        default is used instead.\n",
        "    \"\"\"\n",
        "    return [_map.get(key, default) for key in keys]\n"
      ],
      "metadata": {
        "id": "pcYHzPPxNr7s"
      },
      "execution_count": 50,
      "outputs": []
    },
    {
      "cell_type": "code",
      "execution_count": 51,
      "metadata": {
        "id": "wD35vGd-B6UI"
      },
      "outputs": [],
      "source": [
        "# import evaluate.py\n",
        "# import training.py"
      ]
    },
    {
      "cell_type": "code",
      "execution_count": 52,
      "metadata": {
        "id": "iTMYh3lSB6UI"
      },
      "outputs": [],
      "source": [
        "from importlib import reload"
      ]
    },
    {
      "cell_type": "code",
      "execution_count": 53,
      "metadata": {
        "id": "lMx6bqyOB6UI",
        "outputId": "4d7f0523-7f99-4261-b4fa-480dd443dd9a",
        "colab": {
          "base_uri": "https://localhost:8080/",
          "height": 35
        }
      },
      "outputs": [
        {
          "output_type": "execute_result",
          "data": {
            "text/plain": [
              "'/content/gdrive/MyDrive/Dino-Name-Generator-main/clean_names.pt'"
            ],
            "application/vnd.google.colaboratory.intrinsic+json": {
              "type": "string"
            }
          },
          "metadata": {},
          "execution_count": 53
        }
      ],
      "source": [
        "dir+\"clean_names.pt\""
      ]
    },
    {
      "cell_type": "markdown",
      "metadata": {
        "id": "nwxPGaAgB6UI"
      },
      "source": [
        "## Loading data"
      ]
    },
    {
      "cell_type": "code",
      "execution_count": 54,
      "metadata": {
        "id": "stot2aggB6UI"
      },
      "outputs": [],
      "source": [
        "data_dict_re = torch.load(dir+\"clean_names.pt\")"
      ]
    },
    {
      "cell_type": "code",
      "execution_count": 55,
      "metadata": {
        "id": "PyxEJYz-B6UJ"
      },
      "outputs": [],
      "source": [
        "data_in_char = data_dict_re[\"data_in_char\"]\n",
        "char_vocab = data_dict_re[\"char_vocab\"]"
      ]
    },
    {
      "cell_type": "code",
      "execution_count": null,
      "metadata": {
        "id": "9zBpaWmrB6UJ"
      },
      "outputs": [],
      "source": []
    },
    {
      "cell_type": "markdown",
      "metadata": {
        "id": "4TX9QBUhB6UJ"
      },
      "source": [
        "**NOTE:** `char_vocab` contains a **PAD token** which is meant for when we want to batch our training data. We are not doing that here, so we are removing it."
      ]
    },
    {
      "cell_type": "code",
      "execution_count": 56,
      "metadata": {
        "id": "Ovc8TnY5B6UJ"
      },
      "outputs": [],
      "source": [
        "if \"<PAD>\" in char_vocab:\n",
        "    char_vocab.remove(\"<PAD>\")"
      ]
    },
    {
      "cell_type": "code",
      "execution_count": 57,
      "metadata": {
        "id": "JYc9I5RXB6UJ",
        "outputId": "abf17544-e803-4adc-cfbc-fc8a98011ce5",
        "colab": {
          "base_uri": "https://localhost:8080/"
        }
      },
      "outputs": [
        {
          "output_type": "stream",
          "name": "stdout",
          "text": [
            "data length: 1545\n",
            "vocab size: 27\n"
          ]
        }
      ],
      "source": [
        "print(\"data length:\", len(data_in_char))\n",
        "print(\"vocab size:\", len(char_vocab))"
      ]
    },
    {
      "cell_type": "code",
      "execution_count": 36,
      "metadata": {
        "id": "WPbGwfJzB6UJ"
      },
      "outputs": [],
      "source": []
    },
    {
      "cell_type": "code",
      "execution_count": 58,
      "metadata": {
        "scrolled": false,
        "id": "bFm3mCAwB6UJ",
        "outputId": "2d0ceef1-cf48-4e24-e2be-b148b74e0063",
        "colab": {
          "base_uri": "https://localhost:8080/"
        }
      },
      "outputs": [
        {
          "output_type": "stream",
          "name": "stdout",
          "text": [
            "[['a', 'a', 'c', 'h', 'e', 'n', 'o', 's', 'a', 'u', 'r', 'u', 's', '<EOS>'], ['a', 'a', 'r', 'd', 'o', 'n', 'y', 'x', '<EOS>'], ['a', 'b', 'd', 'a', 'l', 'l', 'a', 'h', 's', 'a', 'u', 'r', 'u', 's', '<EOS>'], ['a', 'b', 'e', 'l', 'i', 's', 'a', 'u', 'r', 'u', 's', '<EOS>'], ['a', 'b', 'r', 'i', 'c', 't', 'o', 's', 'a', 'u', 'r', 'u', 's', '<EOS>']]\n"
          ]
        }
      ],
      "source": [
        "print(data_in_char[:5])"
      ]
    },
    {
      "cell_type": "code",
      "execution_count": 58,
      "metadata": {
        "id": "BbV6gWGMB6UJ"
      },
      "outputs": [],
      "source": []
    },
    {
      "cell_type": "code",
      "execution_count": 59,
      "metadata": {
        "id": "orerI4y9B6UJ"
      },
      "outputs": [],
      "source": [
        "char_to_ix = {ch:i for i,ch in enumerate(char_vocab)}\n",
        "ix_to_char = {i:ch for ch,i in char_to_ix.items()}"
      ]
    },
    {
      "cell_type": "code",
      "execution_count": 38,
      "metadata": {
        "id": "t6425nFkB6UJ"
      },
      "outputs": [],
      "source": []
    },
    {
      "cell_type": "code",
      "execution_count": 38,
      "metadata": {
        "id": "2Gd9MuksB6UJ"
      },
      "outputs": [],
      "source": []
    },
    {
      "cell_type": "code",
      "execution_count": 62,
      "metadata": {
        "id": "qOr9z1UPB6UJ"
      },
      "outputs": [],
      "source": [
        "class Dataset(torch.utils.data.Dataset):\n",
        "    def __init__(self, data_as_str, _map):\n",
        "        self.data_as_int = []\n",
        "        self.max_seqlen = float(\"-inf\")\n",
        "        self.min_seqlen = float(\"inf\")\n",
        "        \n",
        "        # Convert characters to integers\n",
        "        for seq_as_str in data_as_str:\n",
        "            seq_as_int = keys_to_values(seq_as_str, _map,\n",
        "                random.choice(list(_map)))\n",
        "            \n",
        "            self.data_as_int.append(seq_as_int)\n",
        "            self.max_seqlen = max(self.max_seqlen, len(seq_as_int)-1)\n",
        "            self.min_seqlen = min(self.min_seqlen, len(seq_as_int)-1)\n",
        "\n",
        "    def __len__(self):\n",
        "        return len(self.data_as_int)\n",
        "\n",
        "    def __getitem__(self, ix):\n",
        "        # Get data sample at index ix\n",
        "        item = self.data_as_int[ix]\n",
        "        \n",
        "        # Slice x and y from sample\n",
        "        x = item[:-1]\n",
        "        y = item[ 1:]\n",
        "        \n",
        "        return torch.tensor(x), torch.tensor(y)"
      ]
    },
    {
      "cell_type": "code",
      "execution_count": 63,
      "metadata": {
        "scrolled": true,
        "id": "QHy5cx-dB6UK"
      },
      "outputs": [],
      "source": [
        "dataset = Dataset(data_in_char, char_to_ix)\n",
        "dataloader = DataLoader(dataset, 1, True)"
      ]
    },
    {
      "cell_type": "code",
      "execution_count": 64,
      "metadata": {
        "id": "6hcv_a3aB6UK",
        "outputId": "f8870b16-50cb-4924-9006-8f791a9134ef",
        "colab": {
          "base_uri": "https://localhost:8080/"
        }
      },
      "outputs": [
        {
          "output_type": "stream",
          "name": "stdout",
          "text": [
            "Dataset size: 1545\n",
            "Max sequence length: 23\n",
            "Min sequence length: 3\n"
          ]
        }
      ],
      "source": [
        "print(\"Dataset size:\", len(dataset))\n",
        "print(\"Max sequence length:\", dataset.max_seqlen)\n",
        "print(\"Min sequence length:\", dataset.min_seqlen)"
      ]
    },
    {
      "cell_type": "code",
      "execution_count": null,
      "metadata": {
        "id": "3OrQ-vcLB6UK"
      },
      "outputs": [],
      "source": []
    },
    {
      "cell_type": "markdown",
      "metadata": {
        "id": "xaJe0k_0B6UK"
      },
      "source": [
        "## Model"
      ]
    },
    {
      "cell_type": "code",
      "execution_count": 65,
      "metadata": {
        "id": "dphTLD8eB6UK"
      },
      "outputs": [],
      "source": [
        "class Model(nn.Module):\n",
        "    def __init__(self, _map, hidden_size, emb_dim=8, n_layers=1, dropout_p=0.2):\n",
        "        \"\"\"\n",
        "        Input:\n",
        "            _map: char_to_ix.\n",
        "            hidden_size: Number of features to learn.\n",
        "            emb_dim: Size of embedding vector.\n",
        "            n_layers: Number of layers.\n",
        "            dropout_p: Dropout probability.\n",
        "        \"\"\"\n",
        "        super(Model, self).__init__()\n",
        "        \n",
        "        self.vocab_size  = len(_map)\n",
        "        self.hidden_size = hidden_size\n",
        "        self.emb_dim     = emb_dim\n",
        "        self.n_layers    = n_layers\n",
        "        self.dropout_p   = dropout_p\n",
        "        \n",
        "        self.embedding = nn.Embedding(\n",
        "            num_embeddings=self.vocab_size,\n",
        "            embedding_dim =self.emb_dim)\n",
        "        \n",
        "        self.lstm = nn.LSTM(\n",
        "            input_size =self.emb_dim,\n",
        "            hidden_size=self.hidden_size,\n",
        "            num_layers =self.n_layers,\n",
        "            batch_first=True)\n",
        "        \n",
        "        self.dropout = nn.Dropout(self.dropout_p)\n",
        "        \n",
        "        self.fc = nn.Linear(\n",
        "            in_features =self.hidden_size,\n",
        "            out_features=self.vocab_size)\n",
        "        \n",
        "    def forward(self, x, prev_state):\n",
        "        \"\"\"\n",
        "        Input:\n",
        "            x: x\n",
        "            prev_state: The previous state of the model.\n",
        "            \n",
        "        Output:\n",
        "            out: The output of the model.\n",
        "            state: The current state of the model.\n",
        "        \"\"\"\n",
        "        n_b, n_s = x.shape\n",
        "        \n",
        "        embed = self.embedding(x)\n",
        "        yhat, state = self.lstm(embed, prev_state)\n",
        "        \n",
        "        yhat = self.dropout(yhat)\n",
        "        out = self.fc(yhat)\n",
        "        return out, state\n",
        "    \n",
        "    def init_state(self, b_size=1):\n",
        "        return (torch.zeros(self.n_layers, b_size, self.hidden_size),\n",
        "                torch.zeros(self.n_layers, b_size, self.hidden_size))"
      ]
    },
    {
      "cell_type": "code",
      "execution_count": 66,
      "metadata": {
        "scrolled": false,
        "id": "cbYJ5LlzB6UK",
        "outputId": "a62385dd-8d3b-4809-ada5-7d6a6ef83649",
        "colab": {
          "base_uri": "https://localhost:8080/"
        }
      },
      "outputs": [
        {
          "output_type": "execute_result",
          "data": {
            "text/plain": [
              "Model(\n",
              "  (embedding): Embedding(27, 8)\n",
              "  (lstm): LSTM(8, 64, batch_first=True)\n",
              "  (dropout): Dropout(p=0.2, inplace=False)\n",
              "  (fc): Linear(in_features=64, out_features=27, bias=True)\n",
              ")"
            ]
          },
          "metadata": {},
          "execution_count": 66
        }
      ],
      "source": [
        "model = Model(char_to_ix, 64, 8, n_layers=1, dropout_p=0.2)\n",
        "model"
      ]
    },
    {
      "cell_type": "code",
      "execution_count": 66,
      "metadata": {
        "id": "F55U0666B6UL"
      },
      "outputs": [],
      "source": []
    },
    {
      "cell_type": "code",
      "execution_count": 67,
      "metadata": {
        "id": "3Ch5q-rgB6UL"
      },
      "outputs": [],
      "source": [
        "loss_history = []"
      ]
    },
    {
      "cell_type": "code",
      "execution_count": 67,
      "metadata": {
        "id": "KjBJFH3bB6UL"
      },
      "outputs": [],
      "source": []
    },
    {
      "cell_type": "markdown",
      "metadata": {
        "id": "RVEp_fpiB6UL"
      },
      "source": [
        "## Loading and Saving Model"
      ]
    },
    {
      "cell_type": "code",
      "execution_count": 68,
      "metadata": {
        "id": "TbficRHVB6UL"
      },
      "outputs": [],
      "source": [
        "def load_model(path):\n",
        "    m_data = torch.load(path)\n",
        "    \n",
        "    m = Model(\n",
        "        _map       =m_data[\"_map\"],\n",
        "        hidden_size=m_data[\"hidden_size\"],\n",
        "        emb_dim    =m_data[\"emb_dim\"],\n",
        "        n_layers   =m_data[\"n_layers\"],\n",
        "        dropout_p  =m_data[\"dropout_p\"])\n",
        "    \n",
        "    m.load_state_dict(m_data[\"state_dict\"])\n",
        "    l_hist = m_data[\"loss_history\"]\n",
        "    return m, l_hist"
      ]
    },
    {
      "cell_type": "markdown",
      "metadata": {
        "id": "2KhfkSb9B6UL"
      },
      "source": [
        "**Uncomment cell to load the trained model**"
      ]
    },
    {
      "cell_type": "code",
      "execution_count": 69,
      "metadata": {
        "id": "U41QOu93B6UL"
      },
      "outputs": [],
      "source": [
        "# model, loss_history = load_model(\"./saves/model/dino-name.pt\")\n",
        "# model"
      ]
    },
    {
      "cell_type": "code",
      "execution_count": 69,
      "metadata": {
        "id": "UPELDSz6B6UL"
      },
      "outputs": [],
      "source": []
    },
    {
      "cell_type": "code",
      "execution_count": 74,
      "metadata": {
        "id": "a73x30EvB6UL"
      },
      "outputs": [],
      "source": [
        "def save_model(m, l_hist, _map, path=None):\n",
        "    if not path: path = dir+\"./saves/model/dino-name.pt\"\n",
        "        \n",
        "    m_data = {\n",
        "        \"_map\"        : _map,\n",
        "        \"hidden_size\" : m.hidden_size,\n",
        "        \"emb_dim\"     : m.emb_dim,\n",
        "        \"n_layers\"    : m.n_layers,\n",
        "        \"dropout_p\"   : m.dropout_p,\n",
        "        \"state_dict\"  : m.state_dict(),\n",
        "        \"loss_history\": l_hist}\n",
        "    torch.save(m_data, path)"
      ]
    },
    {
      "cell_type": "code",
      "execution_count": 74,
      "metadata": {
        "id": "lIPwHGMeB6UL"
      },
      "outputs": [],
      "source": []
    },
    {
      "cell_type": "markdown",
      "metadata": {
        "id": "AjUw8ZY0B6UL"
      },
      "source": [
        "## Training"
      ]
    },
    {
      "cell_type": "code",
      "execution_count": 75,
      "metadata": {
        "id": "On0VJL9gB6UL"
      },
      "outputs": [],
      "source": [
        "criterion = nn.CrossEntropyLoss()"
      ]
    },
    {
      "cell_type": "code",
      "execution_count": 75,
      "metadata": {
        "id": "FFoFl2mZB6UL"
      },
      "outputs": [],
      "source": []
    },
    {
      "cell_type": "code",
      "execution_count": 76,
      "metadata": {
        "scrolled": true,
        "id": "uduryzhMB6UL",
        "outputId": "c3d87569-c8cb-4ea4-d718-5febfe41575e",
        "colab": {
          "base_uri": "https://localhost:8080/"
        }
      },
      "outputs": [
        {
          "output_type": "stream",
          "name": "stdout",
          "text": [
            "Iteration:  1000/5000, Loss:   1.7089\n",
            "Iteration:  2000/5000, Loss:   1.6379\n",
            "Iteration:  3000/5000, Loss:   1.6280\n",
            "Iteration:  4000/5000, Loss:   1.6102\n",
            "Iteration:  5000/5000, Loss:   1.5819\n",
            "\n",
            "==================================================\n",
            "Round:  1 of 10, Running Time:   25.32 sec\n",
            "==================================================\n",
            "\n",
            "Iteration:  1000/5000, Loss:   1.5502\n",
            "Iteration:  2000/5000, Loss:   1.5665\n",
            "Iteration:  3000/5000, Loss:   1.5385\n",
            "Iteration:  4000/5000, Loss:   1.4879\n",
            "Iteration:  5000/5000, Loss:   1.5250\n",
            "\n",
            "==================================================\n",
            "Round:  2 of 10, Running Time:   49.86 sec\n",
            "==================================================\n",
            "\n",
            "Iteration:  1000/5000, Loss:   1.4923\n",
            "Iteration:  2000/5000, Loss:   1.4833\n",
            "Iteration:  3000/5000, Loss:   1.4558\n",
            "Iteration:  4000/5000, Loss:   1.4529\n",
            "Iteration:  5000/5000, Loss:   1.4251\n",
            "\n",
            "==================================================\n",
            "Round:  3 of 10, Running Time:   74.24 sec\n",
            "==================================================\n",
            "\n",
            "Iteration:  1000/5000, Loss:   1.4364\n",
            "Iteration:  2000/5000, Loss:   1.3890\n",
            "Iteration:  3000/5000, Loss:   1.4159\n",
            "Iteration:  4000/5000, Loss:   1.3889\n",
            "Iteration:  5000/5000, Loss:   1.3732\n",
            "\n",
            "==================================================\n",
            "Round:  4 of 10, Running Time:   99.03 sec\n",
            "==================================================\n",
            "\n",
            "Iteration:  1000/5000, Loss:   1.3544\n",
            "Iteration:  2000/5000, Loss:   1.3549\n",
            "Iteration:  3000/5000, Loss:   1.3832\n",
            "Iteration:  4000/5000, Loss:   1.3245\n",
            "Iteration:  5000/5000, Loss:   1.3350\n",
            "\n",
            "==================================================\n",
            "Round:  5 of 10, Running Time:  124.65 sec\n",
            "==================================================\n",
            "\n",
            "Iteration:  1000/5000, Loss:   1.3171\n",
            "Iteration:  2000/5000, Loss:   1.2994\n",
            "Iteration:  3000/5000, Loss:   1.3151\n",
            "Iteration:  4000/5000, Loss:   1.3029\n",
            "Iteration:  5000/5000, Loss:   1.2723\n",
            "\n",
            "==================================================\n",
            "Round:  6 of 10, Running Time:  166.20 sec\n",
            "==================================================\n",
            "\n",
            "Iteration:  1000/5000, Loss:   1.2868\n",
            "Iteration:  2000/5000, Loss:   1.2521\n",
            "Iteration:  3000/5000, Loss:   1.2812\n",
            "Iteration:  4000/5000, Loss:   1.2450\n",
            "Iteration:  5000/5000, Loss:   1.2552\n",
            "\n",
            "==================================================\n",
            "Round:  7 of 10, Running Time:  192.50 sec\n",
            "==================================================\n",
            "\n",
            "Iteration:  1000/5000, Loss:   1.2326\n",
            "Iteration:  2000/5000, Loss:   1.2228\n",
            "Iteration:  3000/5000, Loss:   1.2506\n",
            "Iteration:  4000/5000, Loss:   1.2237\n",
            "Iteration:  5000/5000, Loss:   1.1988\n",
            "\n",
            "==================================================\n",
            "Round:  8 of 10, Running Time:  217.09 sec\n",
            "==================================================\n",
            "\n",
            "Iteration:  1000/5000, Loss:   1.2025\n",
            "Iteration:  2000/5000, Loss:   1.2125\n",
            "Iteration:  3000/5000, Loss:   1.1936\n",
            "Iteration:  4000/5000, Loss:   1.1889\n",
            "Iteration:  5000/5000, Loss:   1.1731\n",
            "\n",
            "==================================================\n",
            "Round:  9 of 10, Running Time:  245.50 sec\n",
            "==================================================\n",
            "\n",
            "Iteration:  1000/5000, Loss:   1.1711\n",
            "Iteration:  2000/5000, Loss:   1.1660\n",
            "Iteration:  3000/5000, Loss:   1.1723\n",
            "Iteration:  4000/5000, Loss:   1.1661\n",
            "Iteration:  5000/5000, Loss:   1.1479\n",
            "\n",
            "==================================================\n",
            "Round: 10 of 10, Running Time:  270.00 sec\n",
            "==================================================\n",
            "\n"
          ]
        }
      ],
      "source": [
        "iteration = 50000\n",
        "per_iter = 5000\n",
        "start_t = time.time()\n",
        "\n",
        "for _ti in range(iteration//per_iter):\n",
        "    model, costs = train(\n",
        "        model, dataloader, per_iter, criterion, clip=0.25, lr=1e-3, print_every=1000)\n",
        "    \n",
        "    loss_history.extend(costs)\n",
        "    save_model(model, loss_history, char_to_ix)\n",
        "    time.sleep(5)\n",
        "    \n",
        "    print(\"\\n\" + \"=\"*50)\n",
        "    print(\"Round: {:2} of {:2}, Running Time: {:7.2f} sec\".format(\n",
        "        _ti+1, iteration//per_iter, time.time() - start_t))\n",
        "    print(\"=\"*50 + \"\\n\")"
      ]
    },
    {
      "cell_type": "code",
      "execution_count": 76,
      "metadata": {
        "id": "SsR6TVgQB6UL"
      },
      "outputs": [],
      "source": []
    },
    {
      "cell_type": "code",
      "execution_count": 77,
      "metadata": {
        "scrolled": true,
        "id": "RNyRJ3HUB6UM",
        "outputId": "56a49a92-ba69-41b4-af23-777c99a863d5",
        "colab": {
          "base_uri": "https://localhost:8080/",
          "height": 296
        }
      },
      "outputs": [
        {
          "output_type": "execute_result",
          "data": {
            "text/plain": [
              "[<matplotlib.lines.Line2D at 0x7f7163f90a10>]"
            ]
          },
          "metadata": {},
          "execution_count": 77
        },
        {
          "output_type": "display_data",
          "data": {
            "text/plain": [
              "<Figure size 432x288 with 1 Axes>"
            ],
            "image/png": "[encoded data removed]"
          },
          "metadata": {
            "needs_background": "light"
          }
        }
      ],
      "source": [
        "cum = 250\n",
        "plt.xlabel(\"Iteration\")\n",
        "plt.ylabel(\"Cross-Entropy Loss\")\n",
        "plt.plot(\n",
        "    [sum(loss_history[i:i+cum])/cum for i in range(0, len(loss_history), cum)])"
      ]
    },
    {
      "cell_type": "code",
      "execution_count": 78,
      "metadata": {
        "scrolled": false,
        "id": "fcgayy8hB6UM",
        "outputId": "d667e65a-54d6-4f7c-c99e-670c4a289958",
        "colab": {
          "base_uri": "https://localhost:8080/"
        }
      },
      "outputs": [
        {
          "output_type": "stream",
          "name": "stdout",
          "text": [
            "Iter: 55000 | Min: 0.2338 | Max: 4.8416 | Last: 0.5642 | Ave: 1.4048\n"
          ]
        }
      ],
      "source": [
        "print(\"Iter: {} | Min: {:.4f} | Max: {:.4f} | Last: {:.4f} | Ave: {:.4f}\".format(\n",
        "    len(loss_history), min(loss_history), max(loss_history), loss_history[-1],\n",
        "    sum(loss_history)/len(loss_history)))"
      ]
    },
    {
      "cell_type": "code",
      "execution_count": 78,
      "metadata": {
        "id": "JAKOr4qVB6UM"
      },
      "outputs": [],
      "source": []
    },
    {
      "cell_type": "markdown",
      "metadata": {
        "id": "Q0xtheVPB6UM"
      },
      "source": [
        "## Evaluating"
      ]
    },
    {
      "cell_type": "code",
      "execution_count": 80,
      "metadata": {
        "id": "6Z38T188B6UM"
      },
      "outputs": [],
      "source": [
        "n_samp = 100\n",
        "ix_list = list(char_to_ix.values())[1:]"
      ]
    },
    {
      "cell_type": "code",
      "execution_count": 81,
      "metadata": {
        "id": "Dieq3IaWB6UM",
        "outputId": "86ef8bd1-0bcb-4e17-8a09-4d57bb4ba028",
        "colab": {
          "base_uri": "https://localhost:8080/"
        }
      },
      "outputs": [
        {
          "output_type": "stream",
          "name": "stdout",
          "text": [
            "Duplicates: 14 of 100\n",
            " 14.00% recall\n",
            " 86.00% original\n"
          ]
        }
      ],
      "source": [
        "originality = originality(\n",
        "    n_samp, dataset.data_as_int, sample, model, ix_list,\n",
        "    4, False, dataset.max_seqlen, char_to_ix[\"<EOS>\"], False)"
      ]
    },
    {
      "cell_type": "code",
      "execution_count": 81,
      "metadata": {
        "id": "lNOkOQIXB6UM"
      },
      "outputs": [],
      "source": []
    },
    {
      "cell_type": "markdown",
      "metadata": {
        "id": "xKeZQaN-B6UM"
      },
      "source": [
        "Initialise sampling with a **randomly chosen character**"
      ]
    },
    {
      "cell_type": "code",
      "execution_count": 82,
      "metadata": {
        "id": "9uIVUl8TB6UM",
        "outputId": "61bd0e3a-02db-4489-efb2-5c185c02a213",
        "colab": {
          "base_uri": "https://localhost:8080/"
        }
      },
      "outputs": [
        {
          "output_type": "stream",
          "name": "stdout",
          "text": [
            "c => chilesauris<EOS>\n",
            "t => ticompar<EOS>\n",
            "u => ulaceratops<EOS>\n",
            "l => limonasaurus<EOS>\n",
            "e => euasaurus<EOS>\n",
            "m => manospinixus<EOS>\n",
            "n => neotacrum<EOS>\n",
            "j => juangshanosaurus<EOS>\n",
            "f => futeingosaurus<EOS>\n",
            "r => rapator<EOS>\n"
          ]
        }
      ],
      "source": [
        "for i in range(10):\n",
        "    seed = random.choice(ix_list)\n",
        "    \n",
        "    print(ix_to_char[seed], \"=>\", \"\".join(keys_to_values(\n",
        "        sample(model, seed, 5, False, 30, char_to_ix[\"<EOS>\"], False),\n",
        "        ix_to_char, \"<?>\")))"
      ]
    },
    {
      "cell_type": "code",
      "execution_count": 82,
      "metadata": {
        "id": "JgX9CtIXB6UM"
      },
      "outputs": [],
      "source": []
    },
    {
      "cell_type": "markdown",
      "metadata": {
        "id": "YxrlhbLiB6UM"
      },
      "source": [
        "Initialise sampling with **a list of characters** instead of a single character"
      ]
    },
    {
      "cell_type": "code",
      "execution_count": 83,
      "metadata": {
        "scrolled": false,
        "id": "x0Ff1OtBB6UM",
        "outputId": "67ac2c03-aa88-436f-efc4-7961e6905fab",
        "colab": {
          "base_uri": "https://localhost:8080/"
        }
      },
      "outputs": [
        {
          "output_type": "stream",
          "name": "stdout",
          "text": [
            "python => pythongosaurus<EOS>\n",
            "python => pythonsaurus<EOS>\n",
            "python => pythongosaurus<EOS>\n",
            "python => pythongosaurus<EOS>\n",
            "python => pythongosaurus<EOS>\n",
            "python => pythongosaurus<EOS>\n",
            "python => pythongosaurus<EOS>\n",
            "python => pythonosaurus<EOS>\n",
            "python => pythongosaurus<EOS>\n",
            "python => pythongovenator<EOS>\n"
          ]
        }
      ],
      "source": [
        "for i in range(10):\n",
        "    word = \"python\"\n",
        "    seed = keys_to_values(list(word), char_to_ix, char_to_ix[\"<EOS>\"])\n",
        "    \n",
        "    print(word, \"=>\", \"\".join(keys_to_values(\n",
        "        sample(model, seed, 5, False, 30, char_to_ix[\"<EOS>\"], False),\n",
        "        ix_to_char, \"<?>\")))"
      ]
    },
    {
      "cell_type": "code",
      "execution_count": 83,
      "metadata": {
        "id": "YMYLsAO9B6UM"
      },
      "outputs": [],
      "source": []
    },
    {
      "cell_type": "markdown",
      "metadata": {
        "id": "gq-2N2qmB6UM"
      },
      "source": [
        "Sample the next **most likely character** instead of the next **topk most likely characters**"
      ]
    },
    {
      "cell_type": "code",
      "execution_count": 84,
      "metadata": {
        "scrolled": false,
        "id": "BYJlKHvQB6UM",
        "outputId": "f51eaf03-4a53-491a-c20b-c9e41a94346a",
        "colab": {
          "base_uri": "https://localhost:8080/"
        }
      },
      "outputs": [
        {
          "output_type": "stream",
          "name": "stdout",
          "text": [
            "<EOS> => <EOS>ingosaurus<EOS>\n",
            "----a => albisaurus<EOS>\n",
            "----b => barasaurus<EOS>\n",
            "----c => camposaurus<EOS>\n",
            "----d => dakosaurus<EOS>\n",
            "----e => europatitan<EOS>\n",
            "----f => fukuisaurus<EOS>\n",
            "----g => gandunosaurus<EOS>\n",
            "----h => hentrosaurus<EOS>\n",
            "----i => inganosaurus<EOS>\n",
            "----j => jiangxingosaurus<EOS>\n",
            "----k => kalamasaurus<EOS>\n",
            "----l => lapatoraptor<EOS>\n",
            "----m => marisaurus<EOS>\n",
            "----n => nanosaurus<EOS>\n",
            "----o => ornithomimus<EOS>\n",
            "----p => palaeosaurus<EOS>\n",
            "----q => quanhanosaurus<EOS>\n",
            "----r => rianzhousaurus<EOS>\n",
            "----s => sinosaurus<EOS>\n",
            "----t => tarchia<EOS>\n",
            "----u => utarasaurus<EOS>\n",
            "----v => velocisaurus<EOS>\n",
            "----w => wantarosaurus<EOS>\n",
            "----x => xiangshanosaurus<EOS>\n",
            "----y => yungosaurus<EOS>\n",
            "----z => zuolong<EOS>\n"
          ]
        }
      ],
      "source": [
        "for ch in char_vocab:\n",
        "    seed = char_to_ix[ch]\n",
        "    \n",
        "    print(\"{:->5}\".format(ch), \"=>\", \"\".join(keys_to_values(\n",
        "        sample(model, seed, 1, True, 30, char_to_ix[\"<EOS>\"], False),\n",
        "        ix_to_char, \"<?>\")))"
      ]
    },
    {
      "cell_type": "code",
      "execution_count": 79,
      "metadata": {
        "id": "v-ciWJcXB6UM"
      },
      "outputs": [],
      "source": []
    },
    {
      "cell_type": "code",
      "execution_count": null,
      "metadata": {
        "id": "NJdOkAztB6UN"
      },
      "outputs": [],
      "source": []
    },
    {
      "cell_type": "code",
      "execution_count": null,
      "metadata": {
        "id": "dBVXXnKtB6UN"
      },
      "outputs": [],
      "source": []
    },
    {
      "cell_type": "code",
      "execution_count": null,
      "metadata": {
        "id": "nXrmD5NpB6UN"
      },
      "outputs": [],
      "source": []
    },
    {
      "cell_type": "code",
      "execution_count": null,
      "metadata": {
        "id": "HbRnlpa2B6UN"
      },
      "outputs": [],
      "source": []
    }
  ],
  "metadata": {
    "kernelspec": {
      "display_name": "Python 3",
      "language": "python",
      "name": "python3"
    },
    "language_info": {
      "codemirror_mode": {
        "name": "ipython",
        "version": 3
      },
      "file_extension": ".py",
      "mimetype": "text/x-python",
      "name": "python",
      "nbconvert_exporter": "python",
      "pygments_lexer": "ipython3",
      "version": "3.7.6"
    },
    "colab": {
      "provenance": [],
      "include_colab_link": true
    }
  },
  "nbformat": 4,
  "nbformat_minor": 0
}